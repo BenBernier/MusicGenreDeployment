{
 "cells": [
  {
   "cell_type": "code",
   "execution_count": 1,
   "metadata": {},
   "outputs": [],
   "source": [
    "import pandas as pd\n",
    "import numpy as np\n",
    "import os\n",
    "import librosa\n",
    "import librosa.display\n",
    "import matplotlib.pyplot as plt"
   ]
  },
  {
   "cell_type": "code",
   "execution_count": 2,
   "metadata": {},
   "outputs": [
    {
     "data": {
      "text/html": [
       "<div>\n",
       "<style scoped>\n",
       "    .dataframe tbody tr th:only-of-type {\n",
       "        vertical-align: middle;\n",
       "    }\n",
       "\n",
       "    .dataframe tbody tr th {\n",
       "        vertical-align: top;\n",
       "    }\n",
       "\n",
       "    .dataframe thead th {\n",
       "        text-align: right;\n",
       "    }\n",
       "</style>\n",
       "<table border=\"1\" class=\"dataframe\">\n",
       "  <thead>\n",
       "    <tr style=\"text-align: right;\">\n",
       "      <th></th>\n",
       "      <th>filename</th>\n",
       "      <th>length</th>\n",
       "      <th>chroma_stft_mean</th>\n",
       "      <th>chroma_stft_var</th>\n",
       "      <th>rms_mean</th>\n",
       "      <th>rms_var</th>\n",
       "      <th>spectral_centroid_mean</th>\n",
       "      <th>spectral_centroid_var</th>\n",
       "      <th>spectral_bandwidth_mean</th>\n",
       "      <th>spectral_bandwidth_var</th>\n",
       "      <th>...</th>\n",
       "      <th>mfcc16_var</th>\n",
       "      <th>mfcc17_mean</th>\n",
       "      <th>mfcc17_var</th>\n",
       "      <th>mfcc18_mean</th>\n",
       "      <th>mfcc18_var</th>\n",
       "      <th>mfcc19_mean</th>\n",
       "      <th>mfcc19_var</th>\n",
       "      <th>mfcc20_mean</th>\n",
       "      <th>mfcc20_var</th>\n",
       "      <th>label</th>\n",
       "    </tr>\n",
       "  </thead>\n",
       "  <tbody>\n",
       "    <tr>\n",
       "      <th>0</th>\n",
       "      <td>blues.00000.wav</td>\n",
       "      <td>661794</td>\n",
       "      <td>0.350088</td>\n",
       "      <td>0.088757</td>\n",
       "      <td>0.130228</td>\n",
       "      <td>0.002827</td>\n",
       "      <td>1784.165850</td>\n",
       "      <td>129774.064525</td>\n",
       "      <td>2002.449060</td>\n",
       "      <td>85882.761315</td>\n",
       "      <td>...</td>\n",
       "      <td>52.420910</td>\n",
       "      <td>-1.690215</td>\n",
       "      <td>36.524071</td>\n",
       "      <td>-0.408979</td>\n",
       "      <td>41.597103</td>\n",
       "      <td>-2.303523</td>\n",
       "      <td>55.062923</td>\n",
       "      <td>1.221291</td>\n",
       "      <td>46.936035</td>\n",
       "      <td>blues</td>\n",
       "    </tr>\n",
       "    <tr>\n",
       "      <th>1</th>\n",
       "      <td>blues.00001.wav</td>\n",
       "      <td>661794</td>\n",
       "      <td>0.340914</td>\n",
       "      <td>0.094980</td>\n",
       "      <td>0.095948</td>\n",
       "      <td>0.002373</td>\n",
       "      <td>1530.176679</td>\n",
       "      <td>375850.073649</td>\n",
       "      <td>2039.036516</td>\n",
       "      <td>213843.755497</td>\n",
       "      <td>...</td>\n",
       "      <td>55.356403</td>\n",
       "      <td>-0.731125</td>\n",
       "      <td>60.314529</td>\n",
       "      <td>0.295073</td>\n",
       "      <td>48.120598</td>\n",
       "      <td>-0.283518</td>\n",
       "      <td>51.106190</td>\n",
       "      <td>0.531217</td>\n",
       "      <td>45.786282</td>\n",
       "      <td>blues</td>\n",
       "    </tr>\n",
       "    <tr>\n",
       "      <th>2</th>\n",
       "      <td>blues.00002.wav</td>\n",
       "      <td>661794</td>\n",
       "      <td>0.363637</td>\n",
       "      <td>0.085275</td>\n",
       "      <td>0.175570</td>\n",
       "      <td>0.002746</td>\n",
       "      <td>1552.811865</td>\n",
       "      <td>156467.643368</td>\n",
       "      <td>1747.702312</td>\n",
       "      <td>76254.192257</td>\n",
       "      <td>...</td>\n",
       "      <td>40.598766</td>\n",
       "      <td>-7.729093</td>\n",
       "      <td>47.639427</td>\n",
       "      <td>-1.816407</td>\n",
       "      <td>52.382141</td>\n",
       "      <td>-3.439720</td>\n",
       "      <td>46.639660</td>\n",
       "      <td>-2.231258</td>\n",
       "      <td>30.573025</td>\n",
       "      <td>blues</td>\n",
       "    </tr>\n",
       "    <tr>\n",
       "      <th>3</th>\n",
       "      <td>blues.00003.wav</td>\n",
       "      <td>661794</td>\n",
       "      <td>0.404785</td>\n",
       "      <td>0.093999</td>\n",
       "      <td>0.141093</td>\n",
       "      <td>0.006346</td>\n",
       "      <td>1070.106615</td>\n",
       "      <td>184355.942417</td>\n",
       "      <td>1596.412872</td>\n",
       "      <td>166441.494769</td>\n",
       "      <td>...</td>\n",
       "      <td>44.427753</td>\n",
       "      <td>-3.319597</td>\n",
       "      <td>50.206673</td>\n",
       "      <td>0.636965</td>\n",
       "      <td>37.319130</td>\n",
       "      <td>-0.619121</td>\n",
       "      <td>37.259739</td>\n",
       "      <td>-3.407448</td>\n",
       "      <td>31.949339</td>\n",
       "      <td>blues</td>\n",
       "    </tr>\n",
       "    <tr>\n",
       "      <th>4</th>\n",
       "      <td>blues.00004.wav</td>\n",
       "      <td>661794</td>\n",
       "      <td>0.308526</td>\n",
       "      <td>0.087841</td>\n",
       "      <td>0.091529</td>\n",
       "      <td>0.002303</td>\n",
       "      <td>1835.004266</td>\n",
       "      <td>343399.939274</td>\n",
       "      <td>1748.172116</td>\n",
       "      <td>88445.209036</td>\n",
       "      <td>...</td>\n",
       "      <td>86.099236</td>\n",
       "      <td>-5.454034</td>\n",
       "      <td>75.269707</td>\n",
       "      <td>-0.916874</td>\n",
       "      <td>53.613918</td>\n",
       "      <td>-4.404827</td>\n",
       "      <td>62.910812</td>\n",
       "      <td>-11.703234</td>\n",
       "      <td>55.195160</td>\n",
       "      <td>blues</td>\n",
       "    </tr>\n",
       "  </tbody>\n",
       "</table>\n",
       "<p>5 rows × 60 columns</p>\n",
       "</div>"
      ],
      "text/plain": [
       "          filename  length  chroma_stft_mean  chroma_stft_var  rms_mean  \\\n",
       "0  blues.00000.wav  661794          0.350088         0.088757  0.130228   \n",
       "1  blues.00001.wav  661794          0.340914         0.094980  0.095948   \n",
       "2  blues.00002.wav  661794          0.363637         0.085275  0.175570   \n",
       "3  blues.00003.wav  661794          0.404785         0.093999  0.141093   \n",
       "4  blues.00004.wav  661794          0.308526         0.087841  0.091529   \n",
       "\n",
       "    rms_var  spectral_centroid_mean  spectral_centroid_var  \\\n",
       "0  0.002827             1784.165850          129774.064525   \n",
       "1  0.002373             1530.176679          375850.073649   \n",
       "2  0.002746             1552.811865          156467.643368   \n",
       "3  0.006346             1070.106615          184355.942417   \n",
       "4  0.002303             1835.004266          343399.939274   \n",
       "\n",
       "   spectral_bandwidth_mean  spectral_bandwidth_var  ...  mfcc16_var  \\\n",
       "0              2002.449060            85882.761315  ...   52.420910   \n",
       "1              2039.036516           213843.755497  ...   55.356403   \n",
       "2              1747.702312            76254.192257  ...   40.598766   \n",
       "3              1596.412872           166441.494769  ...   44.427753   \n",
       "4              1748.172116            88445.209036  ...   86.099236   \n",
       "\n",
       "   mfcc17_mean  mfcc17_var  mfcc18_mean  mfcc18_var  mfcc19_mean  mfcc19_var  \\\n",
       "0    -1.690215   36.524071    -0.408979   41.597103    -2.303523   55.062923   \n",
       "1    -0.731125   60.314529     0.295073   48.120598    -0.283518   51.106190   \n",
       "2    -7.729093   47.639427    -1.816407   52.382141    -3.439720   46.639660   \n",
       "3    -3.319597   50.206673     0.636965   37.319130    -0.619121   37.259739   \n",
       "4    -5.454034   75.269707    -0.916874   53.613918    -4.404827   62.910812   \n",
       "\n",
       "   mfcc20_mean  mfcc20_var  label  \n",
       "0     1.221291   46.936035  blues  \n",
       "1     0.531217   45.786282  blues  \n",
       "2    -2.231258   30.573025  blues  \n",
       "3    -3.407448   31.949339  blues  \n",
       "4   -11.703234   55.195160  blues  \n",
       "\n",
       "[5 rows x 60 columns]"
      ]
     },
     "execution_count": 2,
     "metadata": {},
     "output_type": "execute_result"
    }
   ],
   "source": [
    "audio_files='./Music_Data/genres_original'\n",
    "file_data=pd.read_csv('./Music_Data/features_30_sec.csv')\n",
    "file_data.head()"
   ]
  },
  {
   "cell_type": "code",
   "execution_count": 3,
   "metadata": {},
   "outputs": [
    {
     "name": "stderr",
     "output_type": "stream",
     "text": [
      "/home/ben/miniconda3/envs/Flask_env/lib/python3.9/site-packages/librosa/util/decorators.py:88: UserWarning: PySoundFile failed. Trying audioread instead.\n",
      "  return f(*args, **kwargs)\n"
     ]
    },
    {
     "name": "stdout",
     "output_type": "stream",
     "text": [
      "Error: \n"
     ]
    }
   ],
   "source": [
    "extracted_features=[]\n",
    "for index_num,row in file_data.iterrows():\n",
    "    try:\n",
    "        final_class_labels=row[\"label\"]\n",
    "        file_name = os.path.join(os.path.abspath(audio_files), final_class_labels+'/',str(row[\"filename\"]))    \n",
    "        audio, sample_rate = librosa.load(file_name, res_type='kaiser_fast') \n",
    "        features = librosa.feature.mfcc(y=audio, sr=sample_rate, n_mfcc=40)\n",
    "        scaled_features = np.mean(features.T,axis=0)\n",
    "        extracted_features.append([scaled_features,final_class_labels])\n",
    "    except Exception as e:\n",
    "        print(f\"Error: {e}\")\n",
    "        continue"
   ]
  },
  {
   "cell_type": "code",
   "execution_count": 4,
   "metadata": {},
   "outputs": [
    {
     "data": {
      "text/html": [
       "<div>\n",
       "<style scoped>\n",
       "    .dataframe tbody tr th:only-of-type {\n",
       "        vertical-align: middle;\n",
       "    }\n",
       "\n",
       "    .dataframe tbody tr th {\n",
       "        vertical-align: top;\n",
       "    }\n",
       "\n",
       "    .dataframe thead th {\n",
       "        text-align: right;\n",
       "    }\n",
       "</style>\n",
       "<table border=\"1\" class=\"dataframe\">\n",
       "  <thead>\n",
       "    <tr style=\"text-align: right;\">\n",
       "      <th></th>\n",
       "      <th>feature</th>\n",
       "      <th>genre</th>\n",
       "    </tr>\n",
       "  </thead>\n",
       "  <tbody>\n",
       "    <tr>\n",
       "      <th>0</th>\n",
       "      <td>[-113.59882, 121.57067, -19.162262, 42.363937,...</td>\n",
       "      <td>blues</td>\n",
       "    </tr>\n",
       "    <tr>\n",
       "      <th>1</th>\n",
       "      <td>[-207.52383, 123.98514, 8.94702, 35.86715, 2.9...</td>\n",
       "      <td>blues</td>\n",
       "    </tr>\n",
       "    <tr>\n",
       "      <th>2</th>\n",
       "      <td>[-90.757164, 140.44087, -29.084547, 31.686693,...</td>\n",
       "      <td>blues</td>\n",
       "    </tr>\n",
       "    <tr>\n",
       "      <th>3</th>\n",
       "      <td>[-199.57513, 150.0861, 5.663404, 26.855282, 1....</td>\n",
       "      <td>blues</td>\n",
       "    </tr>\n",
       "    <tr>\n",
       "      <th>4</th>\n",
       "      <td>[-160.35417, 126.209496, -35.581394, 22.139256...</td>\n",
       "      <td>blues</td>\n",
       "    </tr>\n",
       "  </tbody>\n",
       "</table>\n",
       "</div>"
      ],
      "text/plain": [
       "                                             feature  genre\n",
       "0  [-113.59882, 121.57067, -19.162262, 42.363937,...  blues\n",
       "1  [-207.52383, 123.98514, 8.94702, 35.86715, 2.9...  blues\n",
       "2  [-90.757164, 140.44087, -29.084547, 31.686693,...  blues\n",
       "3  [-199.57513, 150.0861, 5.663404, 26.855282, 1....  blues\n",
       "4  [-160.35417, 126.209496, -35.581394, 22.139256...  blues"
      ]
     },
     "execution_count": 4,
     "metadata": {},
     "output_type": "execute_result"
    }
   ],
   "source": [
    "extracted_features_df=pd.DataFrame(extracted_features,columns=['feature','genre'])\n",
    "extracted_features_df.head()"
   ]
  },
  {
   "cell_type": "code",
   "execution_count": 5,
   "metadata": {},
   "outputs": [],
   "source": [
    "X=np.array(extracted_features_df['feature'].tolist())\n",
    "y=np.array(extracted_features_df['genre'].tolist())\n"
   ]
  },
  {
   "cell_type": "code",
   "execution_count": 6,
   "metadata": {},
   "outputs": [],
   "source": [
    "from tensorflow.keras.utils import to_categorical\n",
    "from sklearn.preprocessing import LabelEncoder\n",
    "labelencoder=LabelEncoder()\n",
    "y=to_categorical(labelencoder.fit_transform(y))"
   ]
  },
  {
   "cell_type": "code",
   "execution_count": 7,
   "metadata": {},
   "outputs": [
    {
     "data": {
      "text/plain": [
       "(999, 10)"
      ]
     },
     "execution_count": 7,
     "metadata": {},
     "output_type": "execute_result"
    }
   ],
   "source": [
    "y.shape"
   ]
  },
  {
   "cell_type": "code",
   "execution_count": 8,
   "metadata": {},
   "outputs": [],
   "source": [
    "from sklearn.model_selection import train_test_split\n",
    "X_train,X_test,y_train,y_test=train_test_split(X,y,test_size=0.18,random_state=0)"
   ]
  },
  {
   "cell_type": "code",
   "execution_count": 9,
   "metadata": {},
   "outputs": [],
   "source": [
    "import tensorflow as tf\n",
    "from tensorflow import keras\n",
    "from tensorflow.keras.models import Sequential\n",
    "from tensorflow.keras.models import load_model\n",
    "from tensorflow.keras.layers import Dense,Dropout,Activation,Flatten\n",
    "from tensorflow.keras.optimizers import Adam\n",
    "from sklearn import metrics\n",
    "\n",
    "\n",
    "model = keras.Sequential([\n",
    "\n",
    "        # input layer\n",
    "        keras.layers.Dense(512,input_shape=(40,), activation='relu'),\n",
    "\n",
    "        # 1st dense layer\n",
    "        keras.layers.Dense(256, activation='relu'),\n",
    "\n",
    "        # 2nd dense layer\n",
    "        keras.layers.Dense(64, activation='relu'),\n",
    "\n",
    "        # output layer\n",
    "        keras.layers.Dense(10, activation='softmax')\n",
    "    ])"
   ]
  },
  {
   "cell_type": "code",
   "execution_count": 10,
   "metadata": {},
   "outputs": [],
   "source": [
    "    optimiser = keras.optimizers.Adam(learning_rate=0.0001)\n",
    "    model.compile(optimizer=optimiser,\n",
    "                  loss='categorical_crossentropy',\n",
    "                  metrics=['accuracy'])"
   ]
  },
  {
   "cell_type": "code",
   "execution_count": 11,
   "metadata": {},
   "outputs": [
    {
     "name": "stdout",
     "output_type": "stream",
     "text": [
      "Model: \"sequential\"\n",
      "_________________________________________________________________\n",
      " Layer (type)                Output Shape              Param #   \n",
      "=================================================================\n",
      " dense (Dense)               (None, 512)               20992     \n",
      "                                                                 \n",
      " dense_1 (Dense)             (None, 256)               131328    \n",
      "                                                                 \n",
      " dense_2 (Dense)             (None, 64)                16448     \n",
      "                                                                 \n",
      " dense_3 (Dense)             (None, 10)                650       \n",
      "                                                                 \n",
      "=================================================================\n",
      "Total params: 169,418\n",
      "Trainable params: 169,418\n",
      "Non-trainable params: 0\n",
      "_________________________________________________________________\n"
     ]
    }
   ],
   "source": [
    "model.summary()"
   ]
  },
  {
   "cell_type": "code",
   "execution_count": 12,
   "metadata": {},
   "outputs": [
    {
     "name": "stdout",
     "output_type": "stream",
     "text": [
      "(819, 40)\n",
      "(819, 10)\n"
     ]
    }
   ],
   "source": [
    "print(X_train.shape)\n",
    "print(y_train.shape)\n"
   ]
  },
  {
   "cell_type": "code",
   "execution_count": 15,
   "metadata": {},
   "outputs": [
    {
     "name": "stdout",
     "output_type": "stream",
     "text": [
      "Epoch 1/50\n",
      "26/26 [==============================] - 0s 8ms/step - loss: 0.4057 - accuracy: 0.8999 - val_loss: 1.1074 - val_accuracy: 0.6333\n",
      "Epoch 2/50\n",
      "26/26 [==============================] - 0s 7ms/step - loss: 0.4018 - accuracy: 0.9048 - val_loss: 1.0807 - val_accuracy: 0.6167\n",
      "Epoch 3/50\n",
      "26/26 [==============================] - 0s 7ms/step - loss: 0.3961 - accuracy: 0.9072 - val_loss: 1.1637 - val_accuracy: 0.6056\n",
      "Epoch 4/50\n",
      "26/26 [==============================] - 0s 8ms/step - loss: 0.3969 - accuracy: 0.8999 - val_loss: 1.1422 - val_accuracy: 0.6056\n",
      "Epoch 5/50\n",
      "26/26 [==============================] - 0s 7ms/step - loss: 0.3970 - accuracy: 0.8950 - val_loss: 1.1693 - val_accuracy: 0.5944\n",
      "Epoch 6/50\n",
      "26/26 [==============================] - 0s 7ms/step - loss: 0.3758 - accuracy: 0.9133 - val_loss: 1.0980 - val_accuracy: 0.6167\n",
      "Epoch 7/50\n",
      "26/26 [==============================] - 0s 5ms/step - loss: 0.3721 - accuracy: 0.9121 - val_loss: 1.1075 - val_accuracy: 0.6333\n",
      "Epoch 8/50\n",
      "26/26 [==============================] - 0s 5ms/step - loss: 0.3594 - accuracy: 0.9133 - val_loss: 1.0643 - val_accuracy: 0.6444\n",
      "Epoch 9/50\n",
      "26/26 [==============================] - 0s 5ms/step - loss: 0.3458 - accuracy: 0.9219 - val_loss: 1.0632 - val_accuracy: 0.6444\n",
      "Epoch 10/50\n",
      "26/26 [==============================] - 0s 5ms/step - loss: 0.3401 - accuracy: 0.9231 - val_loss: 1.0446 - val_accuracy: 0.6722\n",
      "Epoch 11/50\n",
      "26/26 [==============================] - 0s 5ms/step - loss: 0.3296 - accuracy: 0.9206 - val_loss: 1.0826 - val_accuracy: 0.6444\n",
      "Epoch 12/50\n",
      "26/26 [==============================] - 0s 5ms/step - loss: 0.3249 - accuracy: 0.9231 - val_loss: 1.0743 - val_accuracy: 0.6333\n",
      "Epoch 13/50\n",
      "26/26 [==============================] - 0s 5ms/step - loss: 0.3478 - accuracy: 0.9072 - val_loss: 1.2774 - val_accuracy: 0.5778\n",
      "Epoch 14/50\n",
      "26/26 [==============================] - 0s 5ms/step - loss: 0.3404 - accuracy: 0.9133 - val_loss: 1.0992 - val_accuracy: 0.6333\n",
      "Epoch 15/50\n",
      "26/26 [==============================] - 0s 4ms/step - loss: 0.3098 - accuracy: 0.9280 - val_loss: 1.0321 - val_accuracy: 0.6667\n",
      "Epoch 16/50\n",
      "26/26 [==============================] - 0s 6ms/step - loss: 0.2964 - accuracy: 0.9341 - val_loss: 1.1060 - val_accuracy: 0.6278\n",
      "Epoch 17/50\n",
      "26/26 [==============================] - 0s 5ms/step - loss: 0.2928 - accuracy: 0.9426 - val_loss: 1.1097 - val_accuracy: 0.6333\n",
      "Epoch 18/50\n",
      "26/26 [==============================] - 0s 5ms/step - loss: 0.2733 - accuracy: 0.9524 - val_loss: 1.0944 - val_accuracy: 0.6500\n",
      "Epoch 19/50\n",
      "26/26 [==============================] - 0s 5ms/step - loss: 0.2711 - accuracy: 0.9463 - val_loss: 1.0947 - val_accuracy: 0.6500\n",
      "Epoch 20/50\n",
      "26/26 [==============================] - 0s 5ms/step - loss: 0.2652 - accuracy: 0.9512 - val_loss: 1.0762 - val_accuracy: 0.6389\n",
      "Epoch 21/50\n",
      "26/26 [==============================] - 0s 4ms/step - loss: 0.2752 - accuracy: 0.9316 - val_loss: 1.0951 - val_accuracy: 0.6667\n",
      "Epoch 22/50\n",
      "26/26 [==============================] - 0s 4ms/step - loss: 0.2621 - accuracy: 0.9499 - val_loss: 1.1831 - val_accuracy: 0.6222\n",
      "Epoch 23/50\n",
      "26/26 [==============================] - 0s 4ms/step - loss: 0.2556 - accuracy: 0.9487 - val_loss: 1.0771 - val_accuracy: 0.6611\n",
      "Epoch 24/50\n",
      "26/26 [==============================] - 0s 4ms/step - loss: 0.2430 - accuracy: 0.9536 - val_loss: 1.1252 - val_accuracy: 0.6556\n",
      "Epoch 25/50\n",
      "26/26 [==============================] - 0s 4ms/step - loss: 0.2654 - accuracy: 0.9451 - val_loss: 1.1208 - val_accuracy: 0.6556\n",
      "Epoch 26/50\n",
      "26/26 [==============================] - 0s 4ms/step - loss: 0.2643 - accuracy: 0.9451 - val_loss: 1.0996 - val_accuracy: 0.6611\n",
      "Epoch 27/50\n",
      "26/26 [==============================] - 0s 4ms/step - loss: 0.2468 - accuracy: 0.9438 - val_loss: 1.0907 - val_accuracy: 0.6389\n",
      "Epoch 28/50\n",
      "26/26 [==============================] - 0s 4ms/step - loss: 0.2307 - accuracy: 0.9609 - val_loss: 1.0852 - val_accuracy: 0.6722\n",
      "Epoch 29/50\n",
      "26/26 [==============================] - 0s 4ms/step - loss: 0.2319 - accuracy: 0.9548 - val_loss: 1.1366 - val_accuracy: 0.6389\n",
      "Epoch 30/50\n",
      "26/26 [==============================] - 0s 5ms/step - loss: 0.2177 - accuracy: 0.9695 - val_loss: 1.1131 - val_accuracy: 0.6556\n",
      "Epoch 31/50\n",
      "26/26 [==============================] - 0s 4ms/step - loss: 0.2168 - accuracy: 0.9573 - val_loss: 1.1177 - val_accuracy: 0.6556\n",
      "Epoch 32/50\n",
      "26/26 [==============================] - 0s 4ms/step - loss: 0.2142 - accuracy: 0.9634 - val_loss: 1.1681 - val_accuracy: 0.6333\n",
      "Epoch 33/50\n",
      "26/26 [==============================] - 0s 4ms/step - loss: 0.2076 - accuracy: 0.9634 - val_loss: 1.2577 - val_accuracy: 0.6333\n",
      "Epoch 34/50\n",
      "26/26 [==============================] - 0s 4ms/step - loss: 0.2234 - accuracy: 0.9548 - val_loss: 1.1394 - val_accuracy: 0.6444\n",
      "Epoch 35/50\n",
      "26/26 [==============================] - 0s 4ms/step - loss: 0.1991 - accuracy: 0.9707 - val_loss: 1.1488 - val_accuracy: 0.6667\n",
      "Epoch 36/50\n",
      "26/26 [==============================] - 0s 4ms/step - loss: 0.1816 - accuracy: 0.9756 - val_loss: 1.1450 - val_accuracy: 0.6722\n",
      "Epoch 37/50\n",
      "26/26 [==============================] - 0s 4ms/step - loss: 0.1849 - accuracy: 0.9780 - val_loss: 1.1044 - val_accuracy: 0.6778\n",
      "Epoch 38/50\n",
      "26/26 [==============================] - 0s 4ms/step - loss: 0.1752 - accuracy: 0.9744 - val_loss: 1.1166 - val_accuracy: 0.6722\n",
      "Epoch 39/50\n",
      "26/26 [==============================] - 0s 4ms/step - loss: 0.1739 - accuracy: 0.9756 - val_loss: 1.0819 - val_accuracy: 0.6778\n",
      "Epoch 40/50\n",
      "26/26 [==============================] - 0s 4ms/step - loss: 0.1691 - accuracy: 0.9780 - val_loss: 1.1689 - val_accuracy: 0.6389\n",
      "Epoch 41/50\n",
      "26/26 [==============================] - 0s 4ms/step - loss: 0.1703 - accuracy: 0.9805 - val_loss: 1.1784 - val_accuracy: 0.6667\n",
      "Epoch 42/50\n",
      "26/26 [==============================] - 0s 4ms/step - loss: 0.1647 - accuracy: 0.9792 - val_loss: 1.1193 - val_accuracy: 0.6500\n",
      "Epoch 43/50\n",
      "26/26 [==============================] - 0s 4ms/step - loss: 0.1654 - accuracy: 0.9780 - val_loss: 1.1995 - val_accuracy: 0.6667\n",
      "Epoch 44/50\n",
      "26/26 [==============================] - 0s 5ms/step - loss: 0.1765 - accuracy: 0.9719 - val_loss: 1.1771 - val_accuracy: 0.6667\n",
      "Epoch 45/50\n",
      "26/26 [==============================] - 0s 4ms/step - loss: 0.1547 - accuracy: 0.9805 - val_loss: 1.1521 - val_accuracy: 0.6389\n",
      "Epoch 46/50\n",
      "26/26 [==============================] - 0s 4ms/step - loss: 0.1571 - accuracy: 0.9829 - val_loss: 1.1807 - val_accuracy: 0.6500\n",
      "Epoch 47/50\n",
      "26/26 [==============================] - 0s 4ms/step - loss: 0.1488 - accuracy: 0.9841 - val_loss: 1.2144 - val_accuracy: 0.6444\n",
      "Epoch 48/50\n",
      "26/26 [==============================] - 0s 4ms/step - loss: 0.1555 - accuracy: 0.9756 - val_loss: 1.1941 - val_accuracy: 0.6444\n",
      "Epoch 49/50\n",
      "26/26 [==============================] - 0s 4ms/step - loss: 0.1560 - accuracy: 0.9805 - val_loss: 1.2137 - val_accuracy: 0.6611\n",
      "Epoch 50/50\n",
      "26/26 [==============================] - 0s 4ms/step - loss: 0.1416 - accuracy: 0.9829 - val_loss: 1.1835 - val_accuracy: 0.6500\n"
     ]
    },
    {
     "data": {
      "text/plain": [
       "<keras.callbacks.History at 0x7fca10749d60>"
      ]
     },
     "execution_count": 15,
     "metadata": {},
     "output_type": "execute_result"
    }
   ],
   "source": [
    "    # train model\n",
    "model.fit(X_train, y_train, validation_data=(X_test, y_test), batch_size=32, epochs=50)"
   ]
  },
  {
   "cell_type": "code",
   "execution_count": 16,
   "metadata": {},
   "outputs": [
    {
     "name": "stdout",
     "output_type": "stream",
     "text": [
      "2/2 [==============================] - 0s 6ms/step - loss: 1.1835 - accuracy: 0.6500\n",
      "Test loss is:  1.1835347414016724\n",
      "The best accuracy is:  64.99999761581421\n"
     ]
    }
   ],
   "source": [
    "test_loss, test_acc = model.evaluate(X_test, y_test, batch_size=128)\n",
    "print(\"Test loss is: \", test_loss)\n",
    "print(\"The best accuracy is: \", test_acc*100)"
   ]
  },
  {
   "cell_type": "markdown",
   "metadata": {},
   "source": [
    "64.999"
   ]
  },
  {
   "cell_type": "code",
   "execution_count": 17,
   "metadata": {},
   "outputs": [],
   "source": [
    "model.save('./music_model/model.h5')"
   ]
  },
  {
   "cell_type": "code",
   "execution_count": 20,
   "metadata": {},
   "outputs": [
    {
     "ename": "FileNotFoundError",
     "evalue": "[Errno 2] No such file or directory: './Trivium - Rise Above The Tides (Audio).wav'",
     "output_type": "error",
     "traceback": [
      "\u001b[0;31m---------------------------------------------------------------------------\u001b[0m",
      "\u001b[0;31mFileNotFoundError\u001b[0m                         Traceback (most recent call last)",
      "\u001b[1;32m/home/ben/Documents/COMP740/project-3---group-project-andrewg-ben-musicgenre/music_dev.ipynb Cell 17'\u001b[0m in \u001b[0;36m<cell line: 8>\u001b[0;34m()\u001b[0m\n\u001b[1;32m      <a href='vscode-notebook-cell:/home/ben/Documents/COMP740/project-3---group-project-andrewg-ben-musicgenre/music_dev.ipynb#ch0000016?line=5'>6</a>\u001b[0m \u001b[39m#filename=\"./Trivium - Rise Above The Tides (Audio).wav\"\u001b[39;00m\n\u001b[1;32m      <a href='vscode-notebook-cell:/home/ben/Documents/COMP740/project-3---group-project-andrewg-ben-musicgenre/music_dev.ipynb#ch0000016?line=6'>7</a>\u001b[0m new_model \u001b[39m=\u001b[39m load_model(\u001b[39m'\u001b[39m\u001b[39m./music_model/model.h5\u001b[39m\u001b[39m'\u001b[39m)\n\u001b[0;32m----> <a href='vscode-notebook-cell:/home/ben/Documents/COMP740/project-3---group-project-andrewg-ben-musicgenre/music_dev.ipynb#ch0000016?line=7'>8</a>\u001b[0m \u001b[39mwith\u001b[39;00m io\u001b[39m.\u001b[39;49mopen(filename, \u001b[39m'\u001b[39;49m\u001b[39mrb\u001b[39;49m\u001b[39m'\u001b[39;49m) \u001b[39mas\u001b[39;00m song_file:\n\u001b[1;32m      <a href='vscode-notebook-cell:/home/ben/Documents/COMP740/project-3---group-project-andrewg-ben-musicgenre/music_dev.ipynb#ch0000016?line=8'>9</a>\u001b[0m         audio, sample_rate \u001b[39m=\u001b[39m librosa\u001b[39m.\u001b[39mload(song_file, res_type\u001b[39m=\u001b[39m\u001b[39m'\u001b[39m\u001b[39mkaiser_fast\u001b[39m\u001b[39m'\u001b[39m) \n\u001b[1;32m     <a href='vscode-notebook-cell:/home/ben/Documents/COMP740/project-3---group-project-andrewg-ben-musicgenre/music_dev.ipynb#ch0000016?line=9'>10</a>\u001b[0m         mfccs_features \u001b[39m=\u001b[39m librosa\u001b[39m.\u001b[39mfeature\u001b[39m.\u001b[39mmfcc(y\u001b[39m=\u001b[39maudio, sr\u001b[39m=\u001b[39msample_rate, n_mfcc\u001b[39m=\u001b[39m\u001b[39m40\u001b[39m)\n",
      "\u001b[0;31mFileNotFoundError\u001b[0m: [Errno 2] No such file or directory: './Trivium - Rise Above The Tides (Audio).wav'"
     ]
    }
   ],
   "source": [
    "import soundfile as sf\n",
    "import io\n",
    "classes = {0:'blues', 1:'classical', 2:'country', 3:'disco', 4:'hiphop',\n",
    "                5:'jazz', 6:'metal', 7:'pop', 8:'reggae', 9:'rock'}\n",
    "\n",
    "#filename=\"./Trivium - Rise Above The Tides (Audio).wav\"\n",
    "new_model = load_model('./music_model/model.h5')\n",
    "with io.open(filename, 'rb') as song_file:\n",
    "        audio, sample_rate = librosa.load(song_file, res_type='kaiser_fast') \n",
    "        mfccs_features = librosa.feature.mfcc(y=audio, sr=sample_rate, n_mfcc=40)\n",
    "        mfccs_scaled_features = np.mean(mfccs_features.T,axis=0)\n",
    "        mfccs_scaled_features=mfccs_scaled_features.reshape(1,-1)\n",
    "        predicted_value=model.predict(mfccs_scaled_features)\n",
    "        predicted_label=np.argmax(predicted_value,axis=1)\n",
    "        prediction_genre = classes[predicted_label[0]]\n",
    "print(prediction_genre)"
   ]
  }
 ],
 "metadata": {
  "interpreter": {
   "hash": "c5caaad3fcf2dc86105c0ef74926f0acf5540e24ead114e26d90e044498b5f06"
  },
  "kernelspec": {
   "display_name": "Python 3.9.12 ('Flask_env')",
   "language": "python",
   "name": "python3"
  },
  "language_info": {
   "codemirror_mode": {
    "name": "ipython",
    "version": 3
   },
   "file_extension": ".py",
   "mimetype": "text/x-python",
   "name": "python",
   "nbconvert_exporter": "python",
   "pygments_lexer": "ipython3",
   "version": "3.9.12"
  },
  "orig_nbformat": 4
 },
 "nbformat": 4,
 "nbformat_minor": 2
}
